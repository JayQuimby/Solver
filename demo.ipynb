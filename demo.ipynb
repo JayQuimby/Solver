{
 "cells": [
  {
   "cell_type": "code",
   "execution_count": 129,
   "metadata": {},
   "outputs": [],
   "source": [
    "import requests, re\n",
    "from typing import List\n",
    "\n",
    "def format_msg(msg): \n",
    "    if type(msg) is list:\n",
    "        return [{\"role\": \"user\", \"content\": str(m)} for m in msg]\n",
    "    else:\n",
    "        return [{\"role\": \"user\", \"content\": str(msg)}]\n",
    "\n",
    "def query_local_llm(msgs, limit=4000) -> tuple[str, float]:\n",
    "    # Replace with your actual server address and port\n",
    "    url = \"http://0.0.0.0:11434/api/chat/\"\n",
    "    payload = {\n",
    "        \"model\": 'codestral',\n",
    "        \"messages\" : format_msg(msgs),\n",
    "        \"stream\": False,\n",
    "        \"options\": {\n",
    "            \"temperature\": 1,\n",
    "            \"num_predict\": limit,\n",
    "        }\n",
    "    }\n",
    "\n",
    "    response = requests.post(url, json=payload)\n",
    "    if response.status_code == 200:\n",
    "        generation_dict = dict(response.json())\n",
    "        comp_tok = generation_dict.get('eval_count', 0)\n",
    "        output = generation_dict['message']['content']\n",
    "        return output, comp_tok \n",
    "    else:\n",
    "        print(f\"Error: {response.status_code}, {response.text}\")\n",
    "        return '', 0"
   ]
  },
  {
   "cell_type": "code",
   "execution_count": 121,
   "metadata": {},
   "outputs": [],
   "source": [
    "test_question = \"Let's play challenge 24! The goal of the game is to use arithmetic operations (+, -, x, /) to find a combination of the given numbers that equal 24. You must use all of the numbers and you can only use each number once. Here is your problem: (2, 6, 1, 6).\"\n",
    "test_thought = '''2 * 6 + 1 * 6 = 24\n",
    "\n",
    "The solution to this problem involves multiplying 2 by 6 to get 12, then multiplying 1 by 6 to get 6. Adding these together results in the target number of 24.'''\n",
    "\n",
    "t, ct = query_local_llm([test_question])"
   ]
  },
  {
   "cell_type": "code",
   "execution_count": 122,
   "metadata": {},
   "outputs": [
    {
     "name": "stdout",
     "output_type": "stream",
     "text": [
      "2 * 6 + 1 * 6 = 24\n",
      "\n",
      "The solution to this problem involves multiplying 2 by 6 to get 12, then multiplying 1 by 6 to get 6. Adding these together results in the target number of 24.\n"
     ]
    }
   ],
   "source": [
    "print(t)"
   ]
  },
  {
   "cell_type": "code",
   "execution_count": 137,
   "metadata": {},
   "outputs": [],
   "source": [
    "class ThoughtNode:\n",
    "    def __init__(self, thought, goal, parent=None) -> None:\n",
    "        self.parent: ThoughtNode = parent\n",
    "        self.thought: str = thought\n",
    "        self.width: int = 5\n",
    "        self.children: List[ThoughtNode] = []\n",
    "        self.score(goal)\n",
    "\n",
    "    def __str__(self) -> str:\n",
    "        return f'''Node:\n",
    "    Score: {self.score}\n",
    "    Thought: {self.thought}\n",
    "    Children: {self.children}\n",
    "    Parent: {self.parent}\n",
    "    '''\n",
    "\n",
    "    def get_thought_process(self) -> str:\n",
    "        return self.thought if self.parent is None else self.parent.thought_helper(2) + f'\\nStep 1\\n' + self.thought\n",
    "\n",
    "    def thought_helper(self, depth):\n",
    "        return self.thought if self.parent is None else self.parent.thought_helper(depth + 1) + f'\\nStep {depth}:\\n' + self.thought\n",
    "\n",
    "\n",
    "    @staticmethod\n",
    "    def extract_score(response) -> float:\n",
    "        pattern = r\"Score:\\s*(\\d+(?:\\.\\d+)?)\"\n",
    "        matches = re.findall(pattern, response, re.MULTILINE)\n",
    "        if matches:\n",
    "            return float(matches[0])\n",
    "        else:\n",
    "            return 0.5\n",
    "\n",
    "    def score(self, problem) -> None:\n",
    "        prompt: str = f\"Evaluate how promising this thought is for solving the problem '{problem}' on a scale of 0 to 10: '{self.thought}' Make sure your response is formatted as follows 'Score: [value 0-10]'\"\n",
    "        scores: list[float] = []\n",
    "        for _ in range(3):\n",
    "            response, _ = query_local_llm(prompt)\n",
    "            sc = self.extract_score(response)\n",
    "            scores.append(sc)\n",
    "        self.score: float = sum(scores)/len(scores)\n",
    "\n",
    "    def add_child(self, t: str, g:str) -> None:\n",
    "        node = ThoughtNode(t, g, parent=self)\n",
    "        self.children.append(node)\n",
    "\n",
    "    def generate_children(self, problem) -> None:\n",
    "        prompt = f'We are attempting to solve this problem \"{problem}\", and we currently have this partial solution \"{self.get_thought_process()}\". Given this information please generate the next step to solving the problem.'\n",
    "        num_nodes = max(0, int(self.width * self.score)//10)\n",
    "\n",
    "        for _ in range(num_nodes):\n",
    "            cur_t, _ = query_local_llm(prompt)\n",
    "            self.add_child(cur_t, problem)\n",
    "    "
   ]
  },
  {
   "cell_type": "code",
   "execution_count": 138,
   "metadata": {},
   "outputs": [],
   "source": [
    "test_node = ThoughtNode(test_thought, test_question)"
   ]
  },
  {
   "cell_type": "code",
   "execution_count": 139,
   "metadata": {},
   "outputs": [
    {
     "name": "stdout",
     "output_type": "stream",
     "text": [
      "2 * 6 + 1 + 6 = 24\n",
      "\n",
      "So, the combination is: (2 * 6) + 1 + 6\n"
     ]
    }
   ],
   "source": [
    "print(test_node.get_thought_process())"
   ]
  },
  {
   "cell_type": "code",
   "execution_count": 140,
   "metadata": {},
   "outputs": [],
   "source": [
    "test_node.generate_children(test_question)"
   ]
  },
  {
   "cell_type": "code",
   "execution_count": 141,
   "metadata": {},
   "outputs": [
    {
     "name": "stdout",
     "output_type": "stream",
     "text": [
      "0\n"
     ]
    }
   ],
   "source": [
    "print(len(test_node.children))"
   ]
  },
  {
   "cell_type": "code",
   "execution_count": 142,
   "metadata": {},
   "outputs": [],
   "source": [
    "for n in test_node.children:\n",
    "    print(n.get_thought_process())"
   ]
  },
  {
   "cell_type": "code",
   "execution_count": null,
   "metadata": {},
   "outputs": [],
   "source": [
    "class ThoughtTree:\n",
    "    def __init__(self, problem, max_depth=3, beam_width=3) -> None:\n",
    "        self.root = ThoughtNode(problem)\n",
    "        self.max_depth = max_depth\n",
    "        self.beam_width = beam_width\n",
    "\n",
    "    def generate_thoughts(self, node: ThoughtNode) -> ThoughtNode:\n",
    "        prompt = f\"Given the problem or previous thought: '{node.thought}', generate the possible next thought or step that will help achieve the goal.\"\n",
    "        for _ in range(self.beam_width):\n",
    "            response, _ = query_local_llm(prompt)\n",
    "            thoughts = response.strip()\n",
    "            node.add_child(thoughts)\n",
    "        return node"
   ]
  },
  {
   "cell_type": "code",
   "execution_count": null,
   "metadata": {},
   "outputs": [],
   "source": [
    "problem = input('Enter a Query: ')\n",
    "tree = ThoughtTree(problem)\n",
    "solution = tree.search()\n",
    "\n",
    "print(\"Problem:\\n\", problem, '\\n')\n",
    "print(\"\\nSolution path:\")\n",
    "for i, thought in enumerate(solution):\n",
    "    print(f\"{i+1}:\\n{thought}\\n\")"
   ]
  }
 ],
 "metadata": {
  "kernelspec": {
   "display_name": "autogen",
   "language": "python",
   "name": "python3"
  },
  "language_info": {
   "codemirror_mode": {
    "name": "ipython",
    "version": 3
   },
   "file_extension": ".py",
   "mimetype": "text/x-python",
   "name": "python",
   "nbconvert_exporter": "python",
   "pygments_lexer": "ipython3",
   "version": "3.11.5"
  }
 },
 "nbformat": 4,
 "nbformat_minor": 2
}
