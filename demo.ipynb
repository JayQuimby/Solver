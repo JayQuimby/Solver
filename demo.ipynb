{
 "cells": [
  {
   "cell_type": "code",
   "execution_count": 1,
   "metadata": {},
   "outputs": [],
   "source": [
    "from ToT.util import query_local_llm, load_yaml\n",
    "from ToT.Tree import ThoughtNode"
   ]
  },
  {
   "cell_type": "code",
   "execution_count": 11,
   "metadata": {},
   "outputs": [],
   "source": [
    "prompts = {**load_yaml('prompts', './ToT/')}"
   ]
  },
  {
   "cell_type": "code",
   "execution_count": 12,
   "metadata": {},
   "outputs": [
    {
     "data": {
      "text/plain": [
       "{'INITIAL': 'You have been tasked with finding a solution to the following problem:\\n\\n{Problem}\\n\\nPlease think of the next logical step to solve this problem. \\nYou will be given multiple iterations to complete the problem.\\nPlease come up with an appropriate approach to solve this problem.\\n',\n",
       " 'THINK': 'You are in the middle of solving this problem:\\n\\n{problem}\\n\\nYour previous thoughts on the matter are as follows:\\n\\n{thoughts}\\n\\nBased on the problem and your previous work, what is the next best step to take to solve this problem?\\nThink about the next best step critically and then perform that action.\\n',\n",
       " 'SCORE': \"You are in the middle of solving this problem:\\n\\n{problem}\\n\\nThis is the work that you just produced:\\n\\n{thoughts}\\n\\nBased on the problem and the previous thoughts please be critical of your answer and try to determine if it is correct or not.\\nDo not trust the explanation or justification of the previous work just try and verify the integrity of the claims made.\\nOnce you have completed your verification step please output a score to reflect your sentiment of the validity of the claims made.\\nplease format the score like this 'Score: [Value 0-10]' \\n\"}"
      ]
     },
     "execution_count": 12,
     "metadata": {},
     "output_type": "execute_result"
    }
   ],
   "source": [
    "prompts"
   ]
  },
  {
   "cell_type": "code",
   "execution_count": null,
   "metadata": {},
   "outputs": [],
   "source": [
    "test_question = \"Let's play challenge 24! The goal of the game is to use arithmetic operations (+, -, x, /) to find a combination of the given numbers that equal 24. You must use all of the numbers and you can only use each number once. Here is your problem: (2, 6, 1, 6).\"\n",
    "test_thought = '''2 * 6 + 1 * 6 = 24\n",
    "\n",
    "The solution to this problem involves multiplying 2 by 6 to get 12, then multiplying 1 by 6 to get 6. Adding these together results in the target number of 24.'''\n",
    "\n",
    "t, ct = query_local_llm([test_question])"
   ]
  },
  {
   "cell_type": "code",
   "execution_count": null,
   "metadata": {},
   "outputs": [],
   "source": [
    "print(t)"
   ]
  },
  {
   "cell_type": "code",
   "execution_count": null,
   "metadata": {},
   "outputs": [],
   "source": [
    "test_node = ThoughtNode(test_thought, test_question)"
   ]
  },
  {
   "cell_type": "code",
   "execution_count": null,
   "metadata": {},
   "outputs": [],
   "source": [
    "print(test_node.get_thought_process())"
   ]
  },
  {
   "cell_type": "code",
   "execution_count": null,
   "metadata": {},
   "outputs": [],
   "source": [
    "test_node.generate_children(test_question)"
   ]
  },
  {
   "cell_type": "code",
   "execution_count": null,
   "metadata": {},
   "outputs": [],
   "source": [
    "print(len(test_node.children))"
   ]
  },
  {
   "cell_type": "code",
   "execution_count": null,
   "metadata": {},
   "outputs": [],
   "source": [
    "for n in test_node.children:\n",
    "    print(n.get_thought_process())"
   ]
  },
  {
   "cell_type": "code",
   "execution_count": null,
   "metadata": {},
   "outputs": [],
   "source": []
  },
  {
   "cell_type": "code",
   "execution_count": null,
   "metadata": {},
   "outputs": [],
   "source": [
    "problem = input('Enter a Query: ')\n",
    "tree = ThoughtTree(problem)\n",
    "solution = tree.search()\n",
    "\n",
    "print(\"Problem:\\n\", problem, '\\n')\n",
    "print(\"\\nSolution path:\")\n",
    "for i, thought in enumerate(solution):\n",
    "    print(f\"{i+1}:\\n{thought}\\n\")"
   ]
  }
 ],
 "metadata": {
  "kernelspec": {
   "display_name": "autogen",
   "language": "python",
   "name": "python3"
  },
  "language_info": {
   "codemirror_mode": {
    "name": "ipython",
    "version": 3
   },
   "file_extension": ".py",
   "mimetype": "text/x-python",
   "name": "python",
   "nbconvert_exporter": "python",
   "pygments_lexer": "ipython3",
   "version": "3.11.5"
  }
 },
 "nbformat": 4,
 "nbformat_minor": 2
}
