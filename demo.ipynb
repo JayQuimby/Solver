{
 "cells": [
  {
   "cell_type": "code",
   "execution_count": 1,
   "metadata": {},
   "outputs": [],
   "source": [
    "from ToT.util import query_local_llm\n",
    "from ToT.Tree import ThoughtNode"
   ]
  },
  {
   "cell_type": "code",
   "execution_count": 2,
   "metadata": {},
   "outputs": [],
   "source": [
    "test_question = \"Let's play challenge 24! The goal of the game is to use arithmetic operations (+, -, x, /) to find a combination of the given numbers that equal 24. You must use all of the numbers and you can only use each number once. Here is your problem: (2, 6, 1, 6).\"\n",
    "test_thought = '''2 * 6 + 1 * 6 = 24\n",
    "\n",
    "The solution to this problem involves multiplying 2 by 6 to get 12, then multiplying 1 by 6 to get 6. Adding these together results in the target number of 24.'''\n",
    "\n",
    "t, ct = query_local_llm([test_question])"
   ]
  },
  {
   "cell_type": "code",
   "execution_count": 3,
   "metadata": {},
   "outputs": [
    {
     "name": "stdout",
     "output_type": "stream",
     "text": [
      "2 * 6 + 1 + 6 = 24\n",
      "\n",
      "So, the combination is (2*6) + 1 + 6. The answer is 24 as expected!\n"
     ]
    }
   ],
   "source": [
    "print(t)"
   ]
  },
  {
   "cell_type": "code",
   "execution_count": 4,
   "metadata": {},
   "outputs": [],
   "source": [
    "test_node = ThoughtNode(test_thought, test_question)"
   ]
  },
  {
   "cell_type": "code",
   "execution_count": 5,
   "metadata": {},
   "outputs": [
    {
     "name": "stdout",
     "output_type": "stream",
     "text": [
      "2 * 6 + 1 * 6 = 24\n",
      "\n",
      "The solution to this problem involves multiplying 2 by 6 to get 12, then multiplying 1 by 6 to get 6. Adding these together results in the target number of 24.\n"
     ]
    }
   ],
   "source": [
    "print(test_node.get_thought_process())"
   ]
  },
  {
   "cell_type": "code",
   "execution_count": 6,
   "metadata": {},
   "outputs": [],
   "source": [
    "test_node.generate_children(test_question)"
   ]
  },
  {
   "cell_type": "code",
   "execution_count": 7,
   "metadata": {},
   "outputs": [
    {
     "name": "stdout",
     "output_type": "stream",
     "text": [
      "4\n"
     ]
    }
   ],
   "source": [
    "print(len(test_node.children))"
   ]
  },
  {
   "cell_type": "code",
   "execution_count": 8,
   "metadata": {},
   "outputs": [
    {
     "name": "stdout",
     "output_type": "stream",
     "text": [
      "2 * 6 + 1 * 6 = 24\n",
      "\n",
      "The solution to this problem involves multiplying 2 by 6 to get 12, then multiplying 1 by 6 to get 6. Adding these together results in the target number of 24.\n",
      "Step 1\n",
      "2 * 6 + 1 * 6 = 12 + 6 = 18\n",
      "\n",
      "The partial solution provided is not correct because it does not result in the target number of 24, but instead results in 18. To solve this problem with the given numbers (2, 6, 1, 6), one possible next step could be to subtract 1 from 6 and then multiply that by 2. This would yield a correct solution as follows:\n",
      "\n",
      "(6 - 1) * 2 = 5 * 2 = 10\n",
      "\n",
      "Now adding this result (10) to the other 6 gives us:\n",
      "\n",
      "10 + 6 = 16\n",
      "\n",
      "This is still not the target number of 24, so we need another step. One possible solution would be to divide the remaining 6 by the previously used 2. This results in:\n",
      "\n",
      "6 / 2 = 3\n",
      "\n",
      "Finally adding this result (3) to our previous sum (16) gives us:\n",
      "\n",
      "16 + 3 = 24\n",
      "\n",
      "So, a correct solution would be:\n",
      "\n",
      "((6 - 1) * 2) + (6 / 2) = 24\n",
      "2 * 6 + 1 * 6 = 24\n",
      "\n",
      "The solution to this problem involves multiplying 2 by 6 to get 12, then multiplying 1 by 6 to get 6. Adding these together results in the target number of 24.\n",
      "Step 1\n",
      "1. You're correct that multiplying 2 by 6 gives you 12 and multiplying 1 by 6 gives you 6.\n",
      "2. The next step would be to add these two results together, as described in your solution: 12 + 6 = 18. However, this does not equal the target number of 24.\n",
      "3. Given that we have already used all four numbers and cannot introduce any new ones, it appears that there may have been a mistake in our calculations or approach. Unfortunately, with the given set of numbers (2, 6, 1, 6), it is not possible to reach the target number of 24 using basic arithmetic operations (+, -, x, /) and each number only once. It seems that there was an error in our previous steps or the problem may have been misstated.\n",
      "2 * 6 + 1 * 6 = 24\n",
      "\n",
      "The solution to this problem involves multiplying 2 by 6 to get 12, then multiplying 1 by 6 to get 6. Adding these together results in the target number of 24.\n",
      "Step 1\n",
      "2 * 6 = 12\n",
      "1 * 6 = 6\n",
      "Now, add these two results together:\n",
      "\n",
      "12 + 6 = 18\n",
      "\n",
      "Since 18 is not equal to 24, this means we need to find a way to adjust our calculation to reach the target number of 24. However, with the given numbers and operations, it seems that there was an error in the initial solution's explanation as the correct operation should yield 24 directly:\n",
      "\n",
      "(2 * 6) - (1 + 6) = 24\n",
      "\n",
      "Let's calculate this:\n",
      "\n",
      "2 * 6 = 12\n",
      "1 + 6 = 7\n",
      "Now, subtract the second result from the first one:\n",
      "\n",
      "12 - 7 = 5\n",
      "\n",
      "Oops! We made an error in our calculation. Let me correct it for you:\n",
      "\n",
      "(2 * 6) - (1 - 6) = 24\n",
      "\n",
      "Let's calculate this:\n",
      "\n",
      "2 * 6 = 12\n",
      "1 - 6 = -5\n",
      "Now, subtract the second result from the first one:\n",
      "\n",
      "12 + 5 = 17\n",
      "\n",
      "Sorry for the mistake earlier. It seems that there was no direct way to reach the target number of 24 with the given numbers using basic arithmetic operations. Based on my calculations and the problem's requirements, it appears that the given numbers and operators (2, 6, 1, -) cannot be combined in a way that equals 24 while using each number only once. However, I might have made an error during calculation or misunderstood the problem. Could you please clarify any mistakes if there are any?\n",
      "2 * 6 + 1 * 6 = 24\n",
      "\n",
      "The solution to this problem involves multiplying 2 by 6 to get 12, then multiplying 1 by 6 to get 6. Adding these together results in the target number of 24.\n",
      "Step 1\n",
      "1. The current solution is correct as it uses all four given numbers (2, 6, 1, and 6) once each and correctly adds up to 24 using multiplication and addition operations.\n",
      "\n",
      "2. However, if you're looking for a different approach or verification, we can also check the subtraction operation. Since there are two '6's in the numbers, we can use one '6' as the base and subtract the other number from it to reach 24. In this case, 6 - (1 + 2) = 3, which doesn't lead us directly to 24 using the given numbers with only addition, subtraction, multiplication, and division operations.\n",
      "\n",
      "3. Therefore, considering the correct solution is already provided and it does not involve subtracting two '6's to get a different number than '0', there are no further steps necessary in this case. The solution presented (2 * 6 + 1 * 6 = 24) is indeed correct and complete according to the problem's constraints.\n"
     ]
    }
   ],
   "source": [
    "for n in test_node.children:\n",
    "    print(n.get_thought_process())"
   ]
  },
  {
   "cell_type": "code",
   "execution_count": null,
   "metadata": {},
   "outputs": [],
   "source": []
  },
  {
   "cell_type": "code",
   "execution_count": null,
   "metadata": {},
   "outputs": [],
   "source": [
    "problem = input('Enter a Query: ')\n",
    "tree = ThoughtTree(problem)\n",
    "solution = tree.search()\n",
    "\n",
    "print(\"Problem:\\n\", problem, '\\n')\n",
    "print(\"\\nSolution path:\")\n",
    "for i, thought in enumerate(solution):\n",
    "    print(f\"{i+1}:\\n{thought}\\n\")"
   ]
  }
 ],
 "metadata": {
  "kernelspec": {
   "display_name": "autogen",
   "language": "python",
   "name": "python3"
  },
  "language_info": {
   "codemirror_mode": {
    "name": "ipython",
    "version": 3
   },
   "file_extension": ".py",
   "mimetype": "text/x-python",
   "name": "python",
   "nbconvert_exporter": "python",
   "pygments_lexer": "ipython3",
   "version": "3.11.5"
  }
 },
 "nbformat": 4,
 "nbformat_minor": 2
}
