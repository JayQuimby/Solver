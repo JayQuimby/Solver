{
 "cells": [
  {
   "cell_type": "code",
   "execution_count": 2,
   "metadata": {},
   "outputs": [],
   "source": [
    "import requests, re\n",
    "\n",
    "def format_msg(msg): \n",
    "    if type(msg) is list:\n",
    "        return [{\"role\": \"user\", \"content\": str(m)} for m in msg]\n",
    "    else:\n",
    "        return [{\"role\": \"user\", \"content\": str(msg)}]\n",
    "\n",
    "def query_local_llm(msgs, limit=4000) -> tuple[str, float]:\n",
    "    # Replace with your actual server address and port\n",
    "    url = \"http://0.0.0.0:11434/api/chat/\"\n",
    "    payload = {\n",
    "        \"model\": 'llama3',\n",
    "        \"messages\" : format_msg(msgs),\n",
    "        \"stream\": False,\n",
    "        \"options\": {\n",
    "            \"temperature\": 0.1,\n",
    "            \"num_predict\": limit,\n",
    "        }\n",
    "    }\n",
    "\n",
    "    response = requests.post(url, json=payload)\n",
    "    if response.status_code == 200:\n",
    "        generation_dict = dict(response.json())\n",
    "        comp_tok = generation_dict.get('eval_count', 0)\n",
    "        output = generation_dict['message']['content']\n",
    "        return output, comp_tok \n",
    "    else:\n",
    "        print(f\"Error: {response.status_code}, {response.text}\")"
   ]
  },
  {
   "cell_type": "code",
   "execution_count": 8,
   "metadata": {},
   "outputs": [],
   "source": [
    "test_question = 'what is the meaning of life?'\n",
    "test_thought = 'There is no meaning to life, only what you make of it'\n",
    "\n",
    "t, ct = query_local_llm([test_question, test_thought])"
   ]
  },
  {
   "cell_type": "code",
   "execution_count": 9,
   "metadata": {},
   "outputs": [
    {
     "name": "stdout",
     "output_type": "stream",
     "text": [
      "A philosophical and existential perspective!\n",
      "\n",
      "You're quoting Albert Camus, a French philosopher who believed that human existence is inherently meaningless, but we can create our own purpose and significance through our choices and actions. This idea is often referred to as \"absurdism.\"\n",
      "\n",
      "Camus argued that the search for meaning in life is ultimately futile because the universe is indifferent to human existence. However, he also believed that this realization can be liberating, allowing us to take control of our lives and create our own purpose.\n",
      "\n",
      "In other words, instead of searching for a predetermined or inherent meaning to life, we can create our own meaning through our experiences, relationships, and values. This perspective emphasizes individual freedom and responsibility, encouraging people to take charge of their lives and make the most of the time they have.\n",
      "\n",
      "As you said, \"There is no meaning to life, only what you make of it.\" This quote suggests that life has no inherent purpose or direction, but we can still find fulfillment and happiness by creating our own meaning and pursuing our passions.\n",
      "\n",
      "What do you think about this perspective? Do you agree that we should create our own meaning in life, or do you believe there is a deeper, inherent meaning waiting to be discovered?\n"
     ]
    }
   ],
   "source": [
    "print(t)"
   ]
  },
  {
   "cell_type": "code",
   "execution_count": null,
   "metadata": {},
   "outputs": [],
   "source": [
    "class ThoughtNode:\n",
    "    def __init__(self, thought, goal, parent=None) -> None:\n",
    "        self.parent = parent\n",
    "        self.thought = thought\n",
    "        self.children = []\n",
    "        self.score = self.get_score(goal)\n",
    "\n",
    "    @staticmethod\n",
    "    def extract_score(response):\n",
    "        pattern = r\"Score:\\s*(\\d+(?:\\.\\d+)?)\"\n",
    "        matches = re.findall(pattern, response, re.MULTILINE)\n",
    "        if matches:\n",
    "            return float(matches[0])\n",
    "        else:\n",
    "            return 0.0\n",
    "\n",
    "    def get_score(self, problem):\n",
    "        prompt = f\"Evaluate how promising this thought is for solving the problem '{problem}' on a scale of 0 to 10: '{self.thought}' Make sure your response is formatted as follows 'Score: [value 0-10]'\"\n",
    "        scores = []\n",
    "        for _ in range(3):\n",
    "            response, _ = query_local_llm(prompt)\n",
    "            sc = self.extract_score(response)\n",
    "            scores.append(sc)\n",
    "        self.score = sum(scores)/len(scores)\n",
    "\n",
    "    def add_child(self, t):\n",
    "        node = ThoughtNode(t, self)\n",
    "        self.children.append(node)"
   ]
  },
  {
   "cell_type": "code",
   "execution_count": null,
   "metadata": {},
   "outputs": [],
   "source": [
    "test_node = ThoughtNode()"
   ]
  },
  {
   "cell_type": "code",
   "execution_count": null,
   "metadata": {},
   "outputs": [],
   "source": [
    "class ThoughtTree:\n",
    "    def __init__(self, problem, max_depth=3, beam_width=3) -> None:\n",
    "        self.root = ThoughtNode(problem)\n",
    "        self.max_depth = max_depth\n",
    "        self.beam_width = beam_width\n",
    "\n",
    "    def generate_thoughts(self, node: ThoughtNode) -> ThoughtNode:\n",
    "        prompt = f\"Given the problem or previous thought: '{node.thought}', generate the possible next thought or step that will help achieve the goal.\"\n",
    "        for _ in range(self.beam_width):\n",
    "            response, _ = query_local_llm(prompt)\n",
    "            thoughts = response.strip()\n",
    "            node.add_child(thoughts)\n",
    "        return node"
   ]
  },
  {
   "cell_type": "code",
   "execution_count": null,
   "metadata": {},
   "outputs": [],
   "source": [
    "problem = input('Enter a Query: ')\n",
    "tree = ThoughtTree(problem)\n",
    "solution = tree.search()\n",
    "\n",
    "print(\"Problem:\\n\", problem, '\\n')\n",
    "print(\"\\nSolution path:\")\n",
    "for i, thought in enumerate(solution):\n",
    "    print(f\"{i+1}:\\n{thought}\\n\")"
   ]
  }
 ],
 "metadata": {
  "kernelspec": {
   "display_name": "autogen",
   "language": "python",
   "name": "python3"
  },
  "language_info": {
   "codemirror_mode": {
    "name": "ipython",
    "version": 3
   },
   "file_extension": ".py",
   "mimetype": "text/x-python",
   "name": "python",
   "nbconvert_exporter": "python",
   "pygments_lexer": "ipython3",
   "version": "3.11.5"
  }
 },
 "nbformat": 4,
 "nbformat_minor": 2
}
