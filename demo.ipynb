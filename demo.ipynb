{
 "cells": [
  {
   "cell_type": "code",
   "execution_count": 1,
   "metadata": {},
   "outputs": [],
   "source": [
    "from ToT.Tree import ThoughtTree"
   ]
  },
  {
   "cell_type": "code",
   "execution_count": 2,
   "metadata": {},
   "outputs": [],
   "source": [
    "prompt = 'Please create a comprehensive plan that outlines specific ways that people can reduce their carbon footprint and create more sustainable ways of living.'"
   ]
  },
  {
   "cell_type": "code",
   "execution_count": 3,
   "metadata": {},
   "outputs": [
    {
     "name": "stdout",
     "output_type": "stream",
     "text": [
      "Main Goal:\n",
      "Please create a comprehensive plan that outlines specific ways that people can reduce their carbon footprint and create more sustainable ways of living.\n",
      "\n",
      "Max Depth: 3\n",
      "\n",
      "Beam Width: 3\n",
      "Generating 5 \n",
      "Generating 0 \n",
      "Generating 0 \n",
      "Generating 0 \n",
      "Tree incomplete at depth 1\n"
     ]
    }
   ],
   "source": [
    "tree = ThoughtTree(prompt)\n",
    "print(tree)\n",
    "best = tree.think()"
   ]
  },
  {
   "cell_type": "code",
   "execution_count": 4,
   "metadata": {},
   "outputs": [
    {
     "name": "stdout",
     "output_type": "stream",
     "text": [
      "- 1. Research: The first step would be to conduct a ... (Score: 0.00)\n",
      "  - 4. Develop Strategies: For each identified area, d... (Score: 0.95)\n",
      "  - 9. Implementation: The next best step would be to ... (Score: 0.00)\n",
      "  - 9. Implementation: The next best step would be to ... (Score: 0.95)\n",
      "  - 4. Develop Strategies: For each identified area, d... (Score: 0.90)\n",
      "  - 4. Develop Strategies: For each identified area, d... (Score: 0.90)\n"
     ]
    }
   ],
   "source": [
    "tree.visualize()"
   ]
  },
  {
   "cell_type": "code",
   "execution_count": null,
   "metadata": {},
   "outputs": [],
   "source": [
    "print(best)"
   ]
  }
 ],
 "metadata": {
  "kernelspec": {
   "display_name": "autogen",
   "language": "python",
   "name": "python3"
  },
  "language_info": {
   "codemirror_mode": {
    "name": "ipython",
    "version": 3
   },
   "file_extension": ".py",
   "mimetype": "text/x-python",
   "name": "python",
   "nbconvert_exporter": "python",
   "pygments_lexer": "ipython3",
   "version": "3.11.5"
  }
 },
 "nbformat": 4,
 "nbformat_minor": 2
}
